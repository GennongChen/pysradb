{
 "cells": [
  {
   "cell_type": "code",
   "execution_count": 1,
   "metadata": {},
   "outputs": [
    {
     "name": "stderr",
     "output_type": "stream",
     "text": [
      "Cloning into 'pysradb'...\n"
     ]
    }
   ],
   "source": [
    "!git clone -b basic-search-feature https://github.com/bscrow/pysradb"
   ]
  },
  {
   "cell_type": "code",
   "execution_count": 2,
   "metadata": {},
   "outputs": [
    {
     "name": "stdout",
     "output_type": "stream",
     "text": [
      "Processing d:\\projects\\pysradb\\notebooks\\pysradb\n",
      "Requirement already satisfied, skipping upgrade: pandas==1.0.1 in c:\\users\\lenovo\\appdata\\local\\programs\\python\\python37\\lib\\site-packages (from pysradb==0.10.5.dev0) (1.0.1)\n",
      "Requirement already satisfied, skipping upgrade: requests==2.23.0 in c:\\users\\lenovo\\appdata\\local\\programs\\python\\python37\\lib\\site-packages (from pysradb==0.10.5.dev0) (2.23.0)\n",
      "Requirement already satisfied, skipping upgrade: tqdm==4.43.0 in c:\\users\\lenovo\\appdata\\local\\programs\\python\\python37\\lib\\site-packages (from pysradb==0.10.5.dev0) (4.43.0)\n",
      "Requirement already satisfied, skipping upgrade: xmltodict==0.12.0 in c:\\users\\lenovo\\appdata\\local\\programs\\python\\python37\\lib\\site-packages (from pysradb==0.10.5.dev0) (0.12.0)\n",
      "Requirement already satisfied, skipping upgrade: numpy>=1.13.3 in c:\\users\\lenovo\\appdata\\local\\programs\\python\\python37\\lib\\site-packages (from pandas==1.0.1->pysradb==0.10.5.dev0) (1.18.5)\n",
      "Requirement already satisfied, skipping upgrade: python-dateutil>=2.6.1 in c:\\users\\lenovo\\appdata\\local\\programs\\python\\python37\\lib\\site-packages (from pandas==1.0.1->pysradb==0.10.5.dev0) (2.8.1)\n",
      "Requirement already satisfied, skipping upgrade: pytz>=2017.2 in c:\\users\\lenovo\\appdata\\local\\programs\\python\\python37\\lib\\site-packages (from pandas==1.0.1->pysradb==0.10.5.dev0) (2020.1)\n",
      "Requirement already satisfied, skipping upgrade: urllib3!=1.25.0,!=1.25.1,<1.26,>=1.21.1 in c:\\users\\lenovo\\appdata\\local\\programs\\python\\python37\\lib\\site-packages (from requests==2.23.0->pysradb==0.10.5.dev0) (1.25.9)\n",
      "Requirement already satisfied, skipping upgrade: certifi>=2017.4.17 in c:\\users\\lenovo\\appdata\\local\\programs\\python\\python37\\lib\\site-packages (from requests==2.23.0->pysradb==0.10.5.dev0) (2020.4.5.2)\n",
      "Requirement already satisfied, skipping upgrade: idna<3,>=2.5 in c:\\users\\lenovo\\appdata\\local\\programs\\python\\python37\\lib\\site-packages (from requests==2.23.0->pysradb==0.10.5.dev0) (2.9)\n",
      "Requirement already satisfied, skipping upgrade: chardet<4,>=3.0.2 in c:\\users\\lenovo\\appdata\\local\\programs\\python\\python37\\lib\\site-packages (from requests==2.23.0->pysradb==0.10.5.dev0) (3.0.4)\n",
      "Requirement already satisfied, skipping upgrade: six>=1.5 in c:\\users\\lenovo\\appdata\\local\\programs\\python\\python37\\lib\\site-packages (from python-dateutil>=2.6.1->pandas==1.0.1->pysradb==0.10.5.dev0) (1.15.0)\n",
      "Building wheels for collected packages: pysradb\n",
      "  Building wheel for pysradb (setup.py): started\n",
      "  Building wheel for pysradb (setup.py): finished with status 'done'\n",
      "  Created wheel for pysradb: filename=pysradb-0.10.5.dev0-py3-none-any.whl size=154849 sha256=725661590a7db3c6fba842b20c3e699636938c7be095167f05e5dbfb7504bc61\n",
      "  Stored in directory: C:\\Users\\Lenovo\\AppData\\Local\\Temp\\pip-ephem-wheel-cache-85310hsr\\wheels\\5f\\9f\\c7\\fa0e10d9426db9078933a2417ee237612fd91d895bc01d83c0\n",
      "Successfully built pysradb\n",
      "Installing collected packages: pysradb\n",
      "  Attempting uninstall: pysradb\n",
      "    Found existing installation: pysradb 0.10.5.dev0\n",
      "    Uninstalling pysradb-0.10.5.dev0:\n",
      "      Successfully uninstalled pysradb-0.10.5.dev0\n",
      "Successfully installed pysradb-0.10.5.dev0\n"
     ]
    }
   ],
   "source": [
    "!cd pysradb && pip install -U ."
   ]
  },
  {
   "cell_type": "code",
   "execution_count": 3,
   "metadata": {},
   "outputs": [
    {
     "name": "stdout",
     "output_type": "stream",
     "text": [
      "commit 93fb56158e3ed51e0149af82f2e3874a440fe6a0\n",
      "Merge: e870cc8 7863d0b\n",
      "Author: bscrow <boshen@live.com>\n",
      "Date:   Thu Jun 25 15:24:05 2020 +0800\n",
      "\n",
      "    merge upstream repo\n",
      "\n",
      "commit e870cc8e7bf90af5243d4af3e4becce5a1f0d1db\n",
      "Author: bscrow <boshen@live.com>\n",
      "Date:   Thu Jun 25 15:13:00 2020 +0800\n",
      "\n",
      "    Add week 3 writeup\n",
      "\n",
      "commit e443b124fb8473eef2d2f054613e190c37d1f899\n",
      "Author: bscrow <boshen@live.com>\n",
      "Date:   Thu Jun 25 13:06:15 2020 +0800\n",
      "\n",
      "    Finish implementing search feature and tests\n",
      "\n",
      "commit 7863d0bf126a70cb809b74b9ae92364b3130952e\n",
      "Author: Saket Choudhary <saketkc+github@gmail.com>\n",
      "Date:   Fri Jun 19 20:44:59 2020 -0700\n",
      "\n",
      "    Created using Colaboratory\n",
      "\n",
      "commit bf59e76e619cc977ca2d16f6f9b88e4145a200c5\n",
      "Author: Saket Choudhary <saketkc@gmail.com>\n",
      "Date:   Fri Jun 19 20:34:47 2020 -0700\n",
      "\n",
      "    Support command line downloads\n"
     ]
    }
   ],
   "source": [
    "!cd pysradb && git log -n 5 "
   ]
  },
  {
   "cell_type": "markdown",
   "metadata": {},
   "source": [
    "# pysradb search\n",
    "##### The pysradb search module supports querying the Sequence Read Archive (SRA) and the European Nucleotide Archive (ENA) databases for sequencing data. The module also includes several built-in flags that can be used to fine-tune a search query."
   ]
  },
  {
   "cell_type": "code",
   "execution_count": 30,
   "metadata": {},
   "outputs": [
    {
     "data": {
      "text/html": [
       "<style>\n",
       "th {font-size: 16px;}\n",
       "td {font-size: 14px;}\n",
       "td:first-child {font-size: 15px; font-weight: 500;}\n",
       "</style>\n"
      ],
      "text/plain": [
       "<IPython.core.display.HTML object>"
      ]
     },
     "metadata": {},
     "output_type": "display_data"
    }
   ],
   "source": [
    "%%html\n",
    "<style>\n",
    "th {font-size: 16px;}\n",
    "td {font-size: 14px;}\n",
    "td:first-child {font-size: 15px; font-weight: 500;}\n",
    "</style>"
   ]
  },
  {
   "cell_type": "markdown",
   "metadata": {},
   "source": [
    "### Terminal flags for the pysradb search module:\n",
    "\n",
    "|Flags | Explanation|\n",
    "|----------|------------|\n",
    "| -h, --help | Displays the help message |\n",
    "| --saveto | Saves the result in the file specified by the user.<br>Supported file types: txt, tsv, csv |\n",
    "| --db   | Selects the database (SRA or ENA) to query. Default database is SRA. |\n",
    "| -v, --verbosity  | This determines how much details are retrieved and shown in the search result: <br>0: run_accession only <br>1: run_accession and experiment_description only <br>2: <u>(default)</u> study_accession, experiment_accession, experiment_title, description, tax_id, scientific_name, library_strategy, <br>library_source, library_selection, sample_accession, sample_title, instrument_model, run_accession, read_count, base_count <br>3: Everything in verbosity level 2, followed by all other retrievable information from the database|\n",
    "| -m, --max | Maximum number of returned entries. Default number is 20.<br>Note: If the maximum number set is large, querying the SRA database will take significantly longer |\n",
    "| -q, --query | The main query string. <br><u>Note: if this flag is not used, at least one of the following flags must be supplied</u>: |\n",
    "| --accession | A relevant study / experiment / sample / run accession number|\n",
    "| --organism | Scientific name of the sample organism |\n",
    "| --layout | Library layout. Possible inputs: single, paired|\n",
    "| --mbases | Size of the sample rounded to the nearest megabase|\n",
    "| --publication-date | The publication date of the run in the format dd-mm-yyyy. If a date range is desired, <br>enter the start date, followed by end date, separated by a colon ':' in the format dd-mm-yyyy:dd-mm-yyyy <br>Example: 01-01-2010:31-12-2010|\n",
    "| --platform | Sequencing platform used for the run. Possible inputs: illumina, ion torrent, oxford nanopore |\n",
    "| --selection | Library selection. Possible inputs: cdna, chip, dnase, pcr, polya |\n",
    "| --source | Library source. Possible inputs: genomic, metagenomic, transcriptomic |\n",
    "| --strategy | Library Preparation strategy. Possible inputs: wgs, amplicon, rna seq |\n",
    "| --title | Title of the experiment associated with the run |"
   ]
  },
  {
   "cell_type": "markdown",
   "metadata": {},
   "source": [
    "### Using pysradb search in python:\n",
    "\n",
    "##### pysradb search organises each search query as a instance of either the SraSearch or the EnaSearch classes. These classes takes in the following parameters in their constructor: \n",
    "\n",
    "\n",
    "\n",
    "| |`SraSearch(verbosity, return_max, fields) ` : |\n",
    "|----------|------------|\n",
    "| verbosity | This determines how much details are retrieved and shown in the search result. Same as -v / --verbosity on terminal |\n",
    "| return_max | Maximum number of returned entries. Same as -m / --max on terminal |\n",
    "| fields | This is a dictionary that contains the main query as well as all fine-tuning parameters for a search query. If a field is not used, `None` must be supplied as the value for the corresponding key. |\n",
    "\n",
    "##### To query the SRA database for ribosome profiling, expecting an output of verbosity level 2, and returning at most 5 entries, we can do the following:"
   ]
  },
  {
   "cell_type": "code",
   "execution_count": 34,
   "metadata": {},
   "outputs": [
    {
     "name": "stderr",
     "output_type": "stream",
     "text": [
      "c:\\users\\lenovo\\appdata\\local\\programs\\python\\python37\\lib\\site-packages\\pysradb\\utils.py:13: TqdmExperimentalWarning: Using `tqdm.autonotebook.tqdm` in notebook mode. Use `tqdm.tqdm` instead to force console mode (e.g. in jupyter console)\n",
      "  from tqdm.autonotebook import tqdm\n"
     ]
    },
    {
     "name": "stdout",
     "output_type": "stream",
     "text": [
      "  experiment_accession                             title member_tax_id  \\\n",
      "0           SRX8466002  B6N_nTr20_del_3_hippocampus_Ribo         10090   \n",
      "1           SRX8466001  B6N_nTr20_del_2_hippocampus_Ribo         10090   \n",
      "2           SRX8466000  B6N_nTr20_del_1_hippocampus_Ribo         10090   \n",
      "3           SRX8465999            B6N_3_hippocampus_Ribo         10090   \n",
      "4           SRX8465998            B6N_2_hippocampus_Ribo         10090   \n",
      "\n",
      "  member_organism library_strategy  library_source library_selection  \\\n",
      "0    Mus musculus          RNA-Seq  TRANSCRIPTOMIC              cDNA   \n",
      "1    Mus musculus          RNA-Seq  TRANSCRIPTOMIC              cDNA   \n",
      "2    Mus musculus          RNA-Seq  TRANSCRIPTOMIC              cDNA   \n",
      "3    Mus musculus          RNA-Seq  TRANSCRIPTOMIC              cDNA   \n",
      "4    Mus musculus          RNA-Seq  TRANSCRIPTOMIC              cDNA   \n",
      "\n",
      "  sample_accession sample_alias     instrument_model member_spots    run_size  \\\n",
      "0       SRS6767221   GSM4589689  Illumina HiSeq 4000     65165577  1790842721   \n",
      "1       SRS6767220   GSM4589688  Illumina HiSeq 4000     73739940  2020096906   \n",
      "2       SRS6767219   GSM4589687  Illumina HiSeq 4000     37786800  1030318139   \n",
      "3       SRS6767218   GSM4589686  Illumina HiSeq 4000     71447459  1940160567   \n",
      "4       SRS6767217   GSM4589685  Illumina HiSeq 4000     67137307  1866419172   \n",
      "\n",
      "  run_accession run_total_spots run_total_bases  \n",
      "0   SRR11919607        65165577      4952583852  \n",
      "1   SRR11919606        73739940      5604235440  \n",
      "2   SRR11919605        37786800      2871796800  \n",
      "3   SRR11919604        71447459      5430006884  \n",
      "4   SRR11919603        67137307      5102435332  \n"
     ]
    }
   ],
   "source": [
    "from pysradb.search import SraSearch\n",
    "\n",
    "instance = SraSearch(2, 5, {\n",
    "    \"query\": \"ribosome profiling\",\n",
    "    \"accession\": None,\n",
    "    \"organism\": None,\n",
    "    \"layout\": None,\n",
    "    \"mbases\": None,\n",
    "    \"publication_date\": None,\n",
    "    \"platform\": None,\n",
    "    \"selection\": None,\n",
    "    \"source\": None,\n",
    "    \"strategy\": None,\n",
    "    \"title\": None\n",
    "} )\n",
    "instance.search()\n",
    "df = instance.get_df()\n",
    "print(df)"
   ]
  },
  {
   "cell_type": "markdown",
   "metadata": {},
   "source": [
    "##### To query ENA instead, replace SraSearch class with the EnaSearch class:"
   ]
  },
  {
   "cell_type": "code",
   "execution_count": 35,
   "metadata": {},
   "outputs": [
    {
     "name": "stdout",
     "output_type": "stream",
     "text": [
      "  study_accession experiment_accession  \\\n",
      "0      PRJEB12126           ERX1264364   \n",
      "1      PRJEB12126           ERX1264365   \n",
      "2      PRJEB12126           ERX1264366   \n",
      "3      PRJEB12126           ERX1264367   \n",
      "4      PRJEB12126           ERX1264368   \n",
      "\n",
      "                                    experiment_title  \\\n",
      "0  Illumina HiSeq 2000 sequencing; Analysis of co...   \n",
      "1  Illumina HiSeq 2000 sequencing; Analysis of co...   \n",
      "2  Illumina HiSeq 2000 sequencing; Analysis of co...   \n",
      "3  Illumina HiSeq 2000 sequencing; Analysis of co...   \n",
      "4  Illumina HiSeq 2000 sequencing; Analysis of co...   \n",
      "\n",
      "                                         description tax_id scientific_name  \\\n",
      "0  Illumina HiSeq 2000 sequencing; Analysis of co...  10090    Mus musculus   \n",
      "1  Illumina HiSeq 2000 sequencing; Analysis of co...  10090    Mus musculus   \n",
      "2  Illumina HiSeq 2000 sequencing; Analysis of co...  10090    Mus musculus   \n",
      "3  Illumina HiSeq 2000 sequencing; Analysis of co...  10090    Mus musculus   \n",
      "4  Illumina HiSeq 2000 sequencing; Analysis of co...  10090    Mus musculus   \n",
      "\n",
      "  library_strategy  library_source library_selection sample_accession  \\\n",
      "0            OTHER  TRANSCRIPTOMIC             other     SAMEA3708907   \n",
      "1            OTHER  TRANSCRIPTOMIC             other     SAMEA3708908   \n",
      "2            OTHER  TRANSCRIPTOMIC             other     SAMEA3708909   \n",
      "3            OTHER  TRANSCRIPTOMIC             other     SAMEA3708910   \n",
      "4          RNA-Seq  TRANSCRIPTOMIC            RANDOM     SAMEA3708911   \n",
      "\n",
      "  sample_title     instrument_model run_accession read_count  base_count  \n",
      "0     Sample 1  Illumina HiSeq 2000    ERR1190989   38883498  1161289538  \n",
      "1    Sample 10  Illumina HiSeq 2000    ERR1190990   55544297  1779600908  \n",
      "2    Sample 11  Illumina HiSeq 2000    ERR1190991   54474851  1713994365  \n",
      "3    Sample 12  Illumina HiSeq 2000    ERR1190992   78497711  2489092061  \n",
      "4    Sample 13  Illumina HiSeq 2000    ERR1190993   84955423  2627276298  \n"
     ]
    }
   ],
   "source": [
    "from pysradb.search import EnaSearch\n",
    "\n",
    "instance = EnaSearch(2, 5, {\n",
    "    \"query\": \"ribosome profiling\",\n",
    "    \"accession\": None,\n",
    "    \"organism\": None,\n",
    "    \"layout\": None,\n",
    "    \"mbases\": None,\n",
    "    \"publication_date\": None,\n",
    "    \"platform\": None,\n",
    "    \"selection\": None,\n",
    "    \"source\": None,\n",
    "    \"strategy\": None,\n",
    "    \"title\": None\n",
    "} )\n",
    "instance.search()\n",
    "df = instance.get_df()\n",
    "print(df)"
   ]
  },
  {
   "cell_type": "markdown",
   "metadata": {},
   "source": [
    "### Usage Examples:"
   ]
  },
  {
   "cell_type": "markdown",
   "metadata": {},
   "source": [
    "##### Checking the help message on terminal:"
   ]
  },
  {
   "cell_type": "code",
   "execution_count": 31,
   "metadata": {},
   "outputs": [
    {
     "name": "stdout",
     "output_type": "stream",
     "text": [
      "usage: pysradb search [-h] [--saveto SAVETO] [--db {ena,sra}] [-v {0,1,2,3}]\n",
      "                      [-m MAX] [-q QUERY [QUERY ...]] [--accession ACCESSION]\n",
      "                      [--organism ORGANISM [ORGANISM ...]] [--layout LAYOUT]\n",
      "                      [--mbases MBASES] [--publication-date PUBLICATION_DATE]\n",
      "                      [--platform PLATFORM] [--selection SELECTION]\n",
      "                      [--source SOURCE] [--strategy STRATEGY]\n",
      "                      [--title TITLE [TITLE ...]]\n",
      "\n",
      "optional arguments:\n",
      "  -h, --help            show this help message and exit\n",
      "  --saveto SAVETO       Save search result dataframe to file\n",
      "  --db {ena,sra}        Select the db API (sra or ena) to query, default = sra\n",
      "  -v {0,1,2,3}, --verbosity {0,1,2,3}\n",
      "                        Level of search result details (0, 1, 2 or 3), default\n",
      "                        = 2\n",
      "  -m MAX, --max MAX     Maximum number of entries to return, default = 20\n",
      "  -q QUERY [QUERY ...], --query QUERY [QUERY ...]\n",
      "                        Main query string. Note that if no query is supplied,\n",
      "                        at least one of the following flags must be present:\n",
      "  --accession ACCESSION\n",
      "                        Accession number\n",
      "  --organism ORGANISM [ORGANISM ...]\n",
      "                        Scientific name of the sample organism\n",
      "  --layout LAYOUT       Library layout\n",
      "  --mbases MBASES       Size of the sample rounded to the nearest megabase\n",
      "  --publication-date PUBLICATION_DATE\n",
      "                        Publication date of the run in the format dd-mm-yyyy.\n",
      "                        If a date range is desired, enter the start date,\n",
      "                        followed by end date, separated by a colon ':'.\n",
      "                        Example: 01-01-2010:31-12-2010\n",
      "  --platform PLATFORM   Sequencing platform\n",
      "  --selection SELECTION\n",
      "                        Library selection\n",
      "  --source SOURCE       Library source\n",
      "  --strategy STRATEGY   Library preparation strategy\n",
      "  --title TITLE [TITLE ...]\n",
      "                        Experiment title\n"
     ]
    }
   ],
   "source": [
    "!pysradb search -h"
   ]
  },
  {
   "cell_type": "markdown",
   "metadata": {},
   "source": [
    "##### Searching for 5 illumina sequences related to the covid-19 pandemic on ENA, using the terminal:"
   ]
  },
  {
   "cell_type": "code",
   "execution_count": 43,
   "metadata": {},
   "outputs": [
    {
     "name": "stdout",
     "output_type": "stream",
     "text": [
      "study_accession\texperiment_accession\texperiment_title\tdescription\ttax_id\tscientific_name\tlibrary_strategy\tlibrary_source\tlibrary_selection\tsample_accession\tsample_title\tinstrument_model\trun_accession\tread_count\tbase_count\n",
      "\n",
      "PRJNA612578  SRX7918726                                                                            Illumina MiSeq sequencing; RNA-seq of COVID-19 positive human  from San Diego county                                                                            Illumina MiSeq sequencing; RNA-seq of COVID-19 positive human  from San Diego county  2697049  Severe acute respiratory syndrome coronavirus 2  RNA-Seq           VIRAL RNA     PCR  SAMN14380341                                     Pathogen: clinical or host-associated sample from Severe acute respiratory syndrome coronavirus 2  Illumina MiSeq  SRR11314339   517281   156068315\n",
      " PRJNA612578  SRX7949318                                                                                     MinION sequencing; RNA-seq of COVID-19 positive human from San Diego county                                                                                     MinION sequencing; RNA-seq of COVID-19 positive human from San Diego county  2697049  Severe acute respiratory syndrome coronavirus 2  RNA-Seq           VIRAL RNA     PCR  SAMN14380341                                     Pathogen: clinical or host-associated sample from Severe acute respiratory syndrome coronavirus 2          MinION  SRR11347377  2645519  2114343649\n",
      " PRJNA613951  SRX7966547  Ion Torrent S5 sequencing; Metatranscriptome from the nasopharyngeal swab of COVID-19 symptomatic patient from Feira de Santana, Bahia, Brazil - depleted rRNA  Ion Torrent S5 sequencing; Metatranscriptome from the nasopharyngeal swab of COVID-19 symptomatic patient from Feira de Santana, Bahia, Brazil - depleted rRNA  2697049  Severe acute respiratory syndrome coronavirus 2  RNA-Seq  METATRANSCRIPTOMIC    cDNA  SAMN14422484  Metatranscriptome from the nasopharyngeal swab of COVID-19 symptomatic patient  from Feira de Santana, Bahia, Brazil - depleted rRNA  Ion Torrent S5  SRR11365239   353192    27740388\n",
      " PRJNA624231  SRX8089022                                                                                    Illumina MiSeq sequencing; Metatranscriptomic sequencing of COVID-19 patient                                                                                    Illumina MiSeq sequencing; Metatranscriptomic sequencing of COVID-19 patient  2697049  Severe acute respiratory syndrome coronavirus 2  RNA-Seq  METATRANSCRIPTOMIC  RANDOM  SAMN14572083                      This sample has been submitted by pda|jiabinhuang on 2020-05-07; Severe acute respiratory syndrome coronavirus 2  Illumina MiSeq  SRR11517432  9497477  1431573381\n",
      " PRJNA625669  SRX8128264                                                                          Illumina MiSeq sequencing; MiSeq whole transcriptome sequencing of WTA COVID-19 sample                                                                          Illumina MiSeq sequencing; MiSeq whole transcriptome sequencing of WTA COVID-19 sample  2697049  Severe acute respiratory syndrome coronavirus 2  RNA-Seq      TRANSCRIPTOMIC  RANDOM  SAMN14604568                          This sample has been submitted by pda|cgjoshi on 2020-04-18; Severe acute respiratory syndrome coronavirus 2  Illumina MiSeq  SRR11558553  2098763   886591863\n"
     ]
    }
   ],
   "source": [
    "!pysradb search -q covid-19 --platform illumina --db ena -m 5"
   ]
  },
  {
   "cell_type": "markdown",
   "metadata": {},
   "source": [
    "##### Searching for illumina sequences related to the covid-19 pandemic on ENA, using the terminal, and saving the results in a nicely formatted text file:"
   ]
  },
  {
   "cell_type": "code",
   "execution_count": 33,
   "metadata": {},
   "outputs": [],
   "source": [
    "!pysradb search -q covid-19 --db ena --saveto query.txt"
   ]
  },
  {
   "cell_type": "markdown",
   "metadata": {},
   "source": [
    "##### Searching for illumina sequences related to the covid-19 pandemic on ENA, within python: (outputs a pandas dataframe)"
   ]
  },
  {
   "cell_type": "code",
   "execution_count": 37,
   "metadata": {},
   "outputs": [
    {
     "name": "stdout",
     "output_type": "stream",
     "text": [
      "   study_accession experiment_accession  \\\n",
      "0      PRJNA612578           SRX7918726   \n",
      "1      PRJNA612578           SRX7949318   \n",
      "2      PRJNA613951           SRX7966547   \n",
      "3      PRJNA624231           SRX8089022   \n",
      "4      PRJNA625669           SRX8128264   \n",
      "5      PRJNA628125           SRX8176770   \n",
      "6      PRJNA628125           SRX8176769   \n",
      "7      PRJNA628125           SRX8176768   \n",
      "8      PRJNA628125           SRX8176767   \n",
      "9      PRJNA628125           SRX8176766   \n",
      "10     PRJNA628125           SRX8176765   \n",
      "11     PRJNA628125           SRX8176764   \n",
      "12     PRJNA628125           SRX8176763   \n",
      "13     PRJNA628125           SRX8176762   \n",
      "14     PRJNA628125           SRX8176761   \n",
      "15     PRJNA628125           SRX8176760   \n",
      "16     PRJNA628125           SRX8176759   \n",
      "17     PRJNA628125           SRX8176758   \n",
      "18     PRJNA628125           SRX8176757   \n",
      "19     PRJNA632678           SRX8341156   \n",
      "\n",
      "                                     experiment_title  \\\n",
      "0   Illumina MiSeq sequencing; RNA-seq of COVID-19...   \n",
      "1   MinION sequencing; RNA-seq of COVID-19 positiv...   \n",
      "2   Ion Torrent S5 sequencing; Metatranscriptome f...   \n",
      "3   Illumina MiSeq sequencing; Metatranscriptomic ...   \n",
      "4   Illumina MiSeq sequencing; MiSeq whole transcr...   \n",
      "5   Illumina MiSeq sequencing; IGH sequencing of h...   \n",
      "6   Illumina MiSeq sequencing; IGH sequencing of h...   \n",
      "7   Illumina MiSeq sequencing; IGH sequencing of h...   \n",
      "8   Illumina MiSeq sequencing; IGH sequencing of h...   \n",
      "9   Illumina MiSeq sequencing; IGH sequencing of h...   \n",
      "10  Illumina MiSeq sequencing; IGH sequencing of h...   \n",
      "11  Illumina MiSeq sequencing; IGH sequencing of h...   \n",
      "12  Illumina MiSeq sequencing; IGH sequencing of h...   \n",
      "13  Illumina MiSeq sequencing; IGH sequencing of h...   \n",
      "14  Illumina MiSeq sequencing; IGH sequencing of h...   \n",
      "15  Illumina MiSeq sequencing; IGH sequencing of h...   \n",
      "16  Illumina MiSeq sequencing; IGH sequencing of h...   \n",
      "17  Illumina MiSeq sequencing; IGH sequencing of h...   \n",
      "18  Illumina MiSeq sequencing; IGH sequencing of h...   \n",
      "19          MinION sequencing; COVID-19_Cali_Colombia   \n",
      "\n",
      "                                          description   tax_id  \\\n",
      "0   Illumina MiSeq sequencing; RNA-seq of COVID-19...  2697049   \n",
      "1   MinION sequencing; RNA-seq of COVID-19 positiv...  2697049   \n",
      "2   Ion Torrent S5 sequencing; Metatranscriptome f...  2697049   \n",
      "3   Illumina MiSeq sequencing; Metatranscriptomic ...  2697049   \n",
      "4   Illumina MiSeq sequencing; MiSeq whole transcr...  2697049   \n",
      "5   Illumina MiSeq sequencing; IGH sequencing of h...     9606   \n",
      "6   Illumina MiSeq sequencing; IGH sequencing of h...     9606   \n",
      "7   Illumina MiSeq sequencing; IGH sequencing of h...     9606   \n",
      "8   Illumina MiSeq sequencing; IGH sequencing of h...     9606   \n",
      "9   Illumina MiSeq sequencing; IGH sequencing of h...     9606   \n",
      "10  Illumina MiSeq sequencing; IGH sequencing of h...     9606   \n",
      "11  Illumina MiSeq sequencing; IGH sequencing of h...     9606   \n",
      "12  Illumina MiSeq sequencing; IGH sequencing of h...     9606   \n",
      "13  Illumina MiSeq sequencing; IGH sequencing of h...     9606   \n",
      "14  Illumina MiSeq sequencing; IGH sequencing of h...     9606   \n",
      "15  Illumina MiSeq sequencing; IGH sequencing of h...     9606   \n",
      "16  Illumina MiSeq sequencing; IGH sequencing of h...     9606   \n",
      "17  Illumina MiSeq sequencing; IGH sequencing of h...     9606   \n",
      "18  Illumina MiSeq sequencing; IGH sequencing of h...     9606   \n",
      "19          MinION sequencing; COVID-19_Cali_Colombia  2697049   \n",
      "\n",
      "                                    scientific_name library_strategy  \\\n",
      "0   Severe acute respiratory syndrome coronavirus 2          RNA-Seq   \n",
      "1   Severe acute respiratory syndrome coronavirus 2          RNA-Seq   \n",
      "2   Severe acute respiratory syndrome coronavirus 2          RNA-Seq   \n",
      "3   Severe acute respiratory syndrome coronavirus 2          RNA-Seq   \n",
      "4   Severe acute respiratory syndrome coronavirus 2          RNA-Seq   \n",
      "5                                      Homo sapiens         AMPLICON   \n",
      "6                                      Homo sapiens         AMPLICON   \n",
      "7                                      Homo sapiens         AMPLICON   \n",
      "8                                      Homo sapiens         AMPLICON   \n",
      "9                                      Homo sapiens         AMPLICON   \n",
      "10                                     Homo sapiens         AMPLICON   \n",
      "11                                     Homo sapiens         AMPLICON   \n",
      "12                                     Homo sapiens         AMPLICON   \n",
      "13                                     Homo sapiens         AMPLICON   \n",
      "14                                     Homo sapiens         AMPLICON   \n",
      "15                                     Homo sapiens         AMPLICON   \n",
      "16                                     Homo sapiens         AMPLICON   \n",
      "17                                     Homo sapiens         AMPLICON   \n",
      "18                                     Homo sapiens         AMPLICON   \n",
      "19  Severe acute respiratory syndrome coronavirus 2         AMPLICON   \n",
      "\n",
      "        library_source library_selection sample_accession  \\\n",
      "0            VIRAL RNA               PCR     SAMN14380341   \n",
      "1            VIRAL RNA               PCR     SAMN14380341   \n",
      "2   METATRANSCRIPTOMIC              cDNA     SAMN14422484   \n",
      "3   METATRANSCRIPTOMIC            RANDOM     SAMN14572083   \n",
      "4       TRANSCRIPTOMIC            RANDOM     SAMN14604568   \n",
      "5       TRANSCRIPTOMIC               PCR     SAMN14731755   \n",
      "6       TRANSCRIPTOMIC               PCR     SAMN14731754   \n",
      "7       TRANSCRIPTOMIC               PCR     SAMN14731753   \n",
      "8       TRANSCRIPTOMIC               PCR     SAMN14731752   \n",
      "9       TRANSCRIPTOMIC               PCR     SAMN14731751   \n",
      "10      TRANSCRIPTOMIC               PCR     SAMN14731750   \n",
      "11      TRANSCRIPTOMIC               PCR     SAMN14731749   \n",
      "12      TRANSCRIPTOMIC               PCR     SAMN14731748   \n",
      "13      TRANSCRIPTOMIC               PCR     SAMN14731759   \n",
      "14      TRANSCRIPTOMIC               PCR     SAMN14731758   \n",
      "15      TRANSCRIPTOMIC               PCR     SAMN14731757   \n",
      "16      TRANSCRIPTOMIC               PCR     SAMN14731756   \n",
      "17      TRANSCRIPTOMIC               PCR     SAMN14731747   \n",
      "18      TRANSCRIPTOMIC               PCR     SAMN14731746   \n",
      "19           VIRAL RNA               PCR     SAMN14917563   \n",
      "\n",
      "                                         sample_title instrument_model  \\\n",
      "0   Pathogen: clinical or host-associated sample f...   Illumina MiSeq   \n",
      "1   Pathogen: clinical or host-associated sample f...           MinION   \n",
      "2   Metatranscriptome from the nasopharyngeal swab...   Ion Torrent S5   \n",
      "3   This sample has been submitted by pda|jiabinhu...   Illumina MiSeq   \n",
      "4   This sample has been submitted by pda|cgjoshi ...   Illumina MiSeq   \n",
      "5   This sample has been submitted by pda|rhoh79 o...   Illumina MiSeq   \n",
      "6   This sample has been submitted by pda|rhoh79 o...   Illumina MiSeq   \n",
      "7   This sample has been submitted by pda|rhoh79 o...   Illumina MiSeq   \n",
      "8   This sample has been submitted by pda|rhoh79 o...   Illumina MiSeq   \n",
      "9   This sample has been submitted by pda|rhoh79 o...   Illumina MiSeq   \n",
      "10  This sample has been submitted by pda|rhoh79 o...   Illumina MiSeq   \n",
      "11  This sample has been submitted by pda|rhoh79 o...   Illumina MiSeq   \n",
      "12  This sample has been submitted by pda|rhoh79 o...   Illumina MiSeq   \n",
      "13  This sample has been submitted by pda|rhoh79 o...   Illumina MiSeq   \n",
      "14  This sample has been submitted by pda|rhoh79 o...   Illumina MiSeq   \n",
      "15  This sample has been submitted by pda|rhoh79 o...   Illumina MiSeq   \n",
      "16  This sample has been submitted by pda|rhoh79 o...   Illumina MiSeq   \n",
      "17  This sample has been submitted by pda|rhoh79 o...   Illumina MiSeq   \n",
      "18  This sample has been submitted by pda|rhoh79 o...   Illumina MiSeq   \n",
      "19  Pathogen: clinical or host-associated sample f...           MinION   \n",
      "\n",
      "   run_accession read_count  base_count  \n",
      "0    SRR11314339     517281   156068315  \n",
      "1    SRR11347377    2645519  2114343649  \n",
      "2    SRR11365239     353192    27740388  \n",
      "3    SRR11517432    9497477  1431573381  \n",
      "4    SRR11558553    2098763   886591863  \n",
      "5    SRR11610492     365783   116316419  \n",
      "6    SRR11610493     347058   110351149  \n",
      "7    SRR11610494     355342   112915953  \n",
      "8    SRR11610495    1131151   425252747  \n",
      "9    SRR11610496     973687   379657837  \n",
      "10   SRR11610497    1032134   380622615  \n",
      "11   SRR11610498    1533115   598000350  \n",
      "12   SRR11610499    1087102   412035310  \n",
      "13   SRR11610500     354409   112807100  \n",
      "14   SRR11610501     404004   128295817  \n",
      "15   SRR11610502     398829   126764179  \n",
      "16   SRR11610503     349566   110928909  \n",
      "17   SRR11610504    1248174   481747607  \n",
      "18   SRR11610505     398214   150417120  \n",
      "19   SRR11789035      91787    39000108  \n"
     ]
    }
   ],
   "source": [
    "from pysradb.search import EnaSearch\n",
    "\n",
    "instance = EnaSearch(2, 20, {\n",
    "    \"query\": \"covid-19\",\n",
    "    \"accession\": None,\n",
    "    \"organism\": None,\n",
    "    \"layout\": None,\n",
    "    \"mbases\": None,\n",
    "    \"publication_date\": None,\n",
    "    \"platform\": \"illumina\",\n",
    "    \"selection\": None,\n",
    "    \"source\": None,\n",
    "    \"strategy\": None,\n",
    "    \"title\": None\n",
    "} )\n",
    "instance.search()\n",
    "df = instance.get_df()\n",
    "print(df)"
   ]
  },
  {
   "cell_type": "markdown",
   "metadata": {},
   "source": [
    "#### More complex examples:"
   ]
  },
  {
   "cell_type": "code",
   "execution_count": 38,
   "metadata": {},
   "outputs": [
    {
     "name": "stdout",
     "output_type": "stream",
     "text": [
      "      study_accession experiment_accession  \\\n",
      "0          PRJDA51849            DRX000357   \n",
      "1              PRJDB5            DRX001133   \n",
      "2           PRJDB2622            DRX001465   \n",
      "3           PRJDB2622            DRX001466   \n",
      "4           PRJDB2622            DRX001467   \n",
      "...               ...                  ...   \n",
      "37841     PRJNA230969           SRX6737267   \n",
      "37842     PRJNA230969           SRX6737268   \n",
      "37843     PRJNA368991           SRX6737270   \n",
      "37844     PRJNA230969           SRX6737273   \n",
      "37845     PRJNA318589           SRX6737281   \n",
      "\n",
      "                                        experiment_title  \\\n",
      "0      Illumina Genome Analyzer sequencing; Deep sequ...   \n",
      "1      AB SOLiD System 3.0 sequencing; Escherichia co...   \n",
      "2      Illumina Genome Analyzer IIx sequencing; Reseq...   \n",
      "3      Illumina Genome Analyzer IIx sequencing; Reseq...   \n",
      "4      Illumina Genome Analyzer IIx sequencing; Reseq...   \n",
      "...                                                  ...   \n",
      "37841  Illumina MiSeq paired end sequencing; Whole ge...   \n",
      "37842  Illumina MiSeq paired end sequencing; Whole ge...   \n",
      "37843  Illumina MiSeq paired end sequencing; Whole ge...   \n",
      "37844  Illumina MiSeq paired end sequencing; Whole ge...   \n",
      "37845  Illumina MiSeq paired end sequencing; Whole ge...   \n",
      "\n",
      "                                             description   tax_id  \\\n",
      "0      Illumina Genome Analyzer sequencing; Deep sequ...    83333   \n",
      "1      AB SOLiD System 3.0 sequencing; Escherichia co...  1110693   \n",
      "2      Illumina Genome Analyzer IIx sequencing; Reseq...      562   \n",
      "3      Illumina Genome Analyzer IIx sequencing; Reseq...      562   \n",
      "4      Illumina Genome Analyzer IIx sequencing; Reseq...      562   \n",
      "...                                                  ...      ...   \n",
      "37841  Illumina MiSeq paired end sequencing; Whole ge...      562   \n",
      "37842  Illumina MiSeq paired end sequencing; Whole ge...      562   \n",
      "37843  Illumina MiSeq paired end sequencing; Whole ge...  1045010   \n",
      "37844  Illumina MiSeq paired end sequencing; Whole ge...      562   \n",
      "37845  Illumina MiSeq paired end sequencing; Whole ge...      562   \n",
      "\n",
      "                                scientific_name library_strategy  \\\n",
      "0                         Escherichia coli K-12         AMPLICON   \n",
      "1      Escherichia coli str. K-12 substr. MDS42            OTHER   \n",
      "2                              Escherichia coli              WGS   \n",
      "3                              Escherichia coli              WGS   \n",
      "4                              Escherichia coli              WGS   \n",
      "...                                         ...              ...   \n",
      "37841                          Escherichia coli              WGS   \n",
      "37842                          Escherichia coli              WGS   \n",
      "37843                     Escherichia coli O157              WGS   \n",
      "37844                          Escherichia coli              WGS   \n",
      "37845                          Escherichia coli              WGS   \n",
      "\n",
      "       library_source library_selection sample_accession  ...  \\\n",
      "0      TRANSCRIPTOMIC              cDNA     SAMD00013302  ...   \n",
      "1             GENOMIC               PCR     SAMD00006056  ...   \n",
      "2             GENOMIC            RANDOM     SAMD00013297  ...   \n",
      "3             GENOMIC            RANDOM     SAMD00013271  ...   \n",
      "4             GENOMIC            RANDOM     SAMD00013261  ...   \n",
      "...               ...               ...              ...  ...   \n",
      "37841         GENOMIC            RANDOM     SAMN12601501  ...   \n",
      "37842         GENOMIC            RANDOM     SAMN12601488  ...   \n",
      "37843         GENOMIC            RANDOM     SAMN12601666  ...   \n",
      "37844         GENOMIC            RANDOM     SAMN12601610  ...   \n",
      "37845         GENOMIC            RANDOM     SAMN12601499  ...   \n",
      "\n",
      "      submitted_host_sex submitted_md5 submitted_sex target_gene  \\\n",
      "0                                                                  \n",
      "1                                                                  \n",
      "2                                                                  \n",
      "3                                                                  \n",
      "4                                                                  \n",
      "...                  ...           ...           ...         ...   \n",
      "37841                                                              \n",
      "37842                                                              \n",
      "37843                                                              \n",
      "37844                                                              \n",
      "37845                                                              \n",
      "\n",
      "      taxonomic_classification taxonomic_identity_marker temperature  \\\n",
      "0                                                                      \n",
      "1                                                                      \n",
      "2                                                                      \n",
      "3                                                                      \n",
      "4                                                                      \n",
      "...                        ...                       ...         ...   \n",
      "37841                                                                  \n",
      "37842                                                                  \n",
      "37843                                                                  \n",
      "37844                                                                  \n",
      "37845                                                                  \n",
      "\n",
      "      tissue_lib tissue_type variety  \n",
      "0                                     \n",
      "1                                     \n",
      "2                                     \n",
      "3                                     \n",
      "4                                     \n",
      "...          ...         ...     ...  \n",
      "37841                                 \n",
      "37842                                 \n",
      "37843                                 \n",
      "37844                                 \n",
      "37845                                 \n",
      "\n",
      "[37846 rows x 123 columns]\n"
     ]
    }
   ],
   "source": [
    "from pysradb.search import EnaSearch\n",
    "\n",
    "instance = EnaSearch(3, 100000, {\n",
    "    \"query\": [\"Escherichia\", \"coli\"],\n",
    "    \"accession\": \"SRS6898940\",\n",
    "    \"organism\": \"Escherichia coli\",\n",
    "    \"layout\": \"Paired\",\n",
    "    \"mbases\": 100,\n",
    "    \"publication_date\": \"01-01-2019:31-12-2019\",\n",
    "    \"platform\": \"Illumina\",\n",
    "    \"selection\": \"random\",\n",
    "    \"source\": \"Genomic\",\n",
    "    \"strategy\": \"WGS\",\n",
    "    \"title\": None\n",
    "} )\n",
    "instance.search()\n",
    "df = instance.get_df()\n",
    "print(df)"
   ]
  },
  {
   "cell_type": "markdown",
   "metadata": {},
   "source": [
    "#### Corresponding terminal command example, with max set to 20:"
   ]
  },
  {
   "cell_type": "code",
   "execution_count": 41,
   "metadata": {},
   "outputs": [
    {
     "name": "stdout",
     "output_type": "stream",
     "text": [
      "study_accession\texperiment_accession\texperiment_title\tdescription\ttax_id\tscientific_name\tlibrary_strategy\tlibrary_source\tlibrary_selection\tsample_accession\tsample_title\tinstrument_model\trun_accession\tread_count\tbase_count\taccession\taltitude\tassembly_quality\tassembly_software\tbinning_software\tbio_material\tbroker_name\tcell_line\tcell_type\tcenter_name\tchecklist\tcollected_by\tcollection_date\tcompleteness_score\tcontamination_score\tcountry\tcram_index_aspera\tcram_index_ftp\tcram_index_galaxy\tcultivar\tculture_collection\tdepth\tdev_stage\tecotype\televation\tenvironment_biome\tenvironment_feature\tenvironment_material\tenvironmental_package\tenvironmental_sample\texperiment_alias\texperimental_factor\tfastq_aspera\tfastq_bytes\tfastq_ftp\tfastq_galaxy\tfastq_md5\tfirst_created\tfirst_public\tgermline\thost\thost_body_site\thost_genotype\thost_gravidity\thost_growth_conditions\thost_phenotype\thost_sex\thost_status\thost_tax_id\tidentified_by\tinstrument_platform\tinvestigation_type\tisolate\tisolation_source\tlast_updated\tlat\tlibrary_layout\tlibrary_name\tlocation\tlon\tmating_type\tnominal_length\tnominal_sdev\tph\tproject_name\tprotocol_label\trun_alias\tsalinity\tsample_alias\tsample_collection\tsample_description\tsample_material\tsampling_campaign\tsampling_platform\tsampling_site\tsecondary_sample_accession\tsecondary_study_accession\tsequencing_method\tserotype\tserovar\tsex\tspecimen_voucher\tsra_aspera\tsra_bytes\tsra_ftp\tsra_galaxy\tsra_md5\tstrain\tstudy_alias\tstudy_title\tsub_species\tsub_strain\tsubmission_accession\tsubmitted_aspera\tsubmitted_bytes\tsubmitted_format\tsubmitted_ftp\tsubmitted_galaxy\tsubmitted_host_sex\tsubmitted_md5\tsubmitted_sex\ttarget_gene\ttaxonomic_classification\ttaxonomic_identity_marker\ttemperature\ttissue_lib\ttissue_type\tvariety\n",
      "\n",
      "PRJDA51849  DRX000357  Illumina Genome Analyzer sequencing; Deep sequencing of low molecular weight in Escherichia coli  Illumina Genome Analyzer sequencing; Deep sequencing of low molecular weight in Escherichia coli    83333                     Escherichia coli K-12  AMPLICON  TRANSCRIPTOMIC    cDNA  SAMD00013302                                   low molecular weight RNA      Illumina Genome Analyzer  DRR000605  12473172   436561020  SAMD00013302            DRA       KEIO-IAB                                        false  DRX000357                                                                                                                                              fasp.sra.ebi.ac.uk:/vol1/fastq/DRR000/DRR000605/DRR000605.fastq.gz                       543628982                                                                                                                                        ftp.sra.ebi.ac.uk/vol1/fastq/DRR000/DRR000605/DRR000605.fastq.gz                                                                                                                                        ftp.sra.ebi.ac.uk/vol1/fastq/DRR000/DRR000605/DRR000605.fastq.gz                                                                    be44794233ad20982c4df93ea67e9163  2011-08-26  2011-08-26  false                       ILLUMINA        2016-06-28    SINGLE  Low molecular weight RNA in Escherichia coli                  DRR000605    SAMD00013302                                                            low molecular weight RNA          DRS000323  DRP000222            fasp.sra.ebi.ac.uk:/vol1/drr/DRR000/DRR000605  1267438433  ftp.sra.ebi.ac.uk/vol1/drr/DRR000/DRR000605  ftp.sra.ebi.ac.uk/vol1/drr/DRR000/DRR000605  5ff0b13ea22d4fdc9801f6e7eaead4d7  BW25113  DRP000222                                Escherichia coli K-12 Transcriptome project      DRA000221                              \n",
      "     PRJDB5  DRX001133         AB SOLiD System 3.0 sequencing; Escherichia coli str. K-12 substr. MDS42, complete genome         AB SOLiD System 3.0 sequencing; Escherichia coli str. K-12 substr. MDS42, complete genome  1110693  Escherichia coli str. K-12 substr. MDS42     OTHER         GENOMIC     PCR  SAMD00006056  Escherichia coli str. K-12 substr. MDS42, complete genome           AB SOLiD System 3.0  DRR001647  92304578  9194709550  SAMD00006056                     OSAKA_IST                                        false  DRX001133    fasp.sra.ebi.ac.uk:/vol1/fastq/DRR001/DRR001647/DRR001647.fastq.gz;fasp.sra.ebi.ac.uk:/vol1/fastq/DRR001/DRR001647/DRR001647_1.fastq.gz;fasp.sra.ebi.ac.uk:/vol1/fastq/DRR001/DRR001647/DRR001647_2.fastq.gz  44443601;5600598097;5603089848  ftp.sra.ebi.ac.uk/vol1/fastq/DRR001/DRR001647/DRR001647.fastq.gz;ftp.sra.ebi.ac.uk/vol1/fastq/DRR001/DRR001647/DRR001647_1.fastq.gz;ftp.sra.ebi.ac.uk/vol1/fastq/DRR001/DRR001647/DRR001647_2.fastq.gz  ftp.sra.ebi.ac.uk/vol1/fastq/DRR001/DRR001647/DRR001647.fastq.gz;ftp.sra.ebi.ac.uk/vol1/fastq/DRR001/DRR001647/DRR001647_1.fastq.gz;ftp.sra.ebi.ac.uk/vol1/fastq/DRR001/DRR001647/DRR001647_2.fastq.gz  a6edcba1750da75889addb4936f223ad;eeba3f3cc1ef73c86cb3c8cd4ff5240b;f5357c3e7cbd978154f98a767cb84d25  2013-11-11  2012-08-09  false                      ABI_SOLID        2015-06-19    PAIRED                                         MDS42                  DRR001647       DRS001147    MDS42 is a multiple deletion Escherichia coli strain produced by Scarab Genomics          DRS001147  DRP000503            fasp.sra.ebi.ac.uk:/vol1/drr/DRR001/DRR001647  8209835304  ftp.sra.ebi.ac.uk/vol1/drr/DRR001/DRR001647  ftp.sra.ebi.ac.uk/vol1/drr/DRR001/DRR001647  64c0d231deded487db1af7b12dd49576           DRP000503                  Escherichia coli str. K-12 substr. MDS42, complete genome      DRA000482                              \n",
      "  PRJDB2622  DRX001465           Illumina Genome Analyzer IIx sequencing; Resequencing of Escherichia coli BW4030 genome           Illumina Genome Analyzer IIx sequencing; Resequencing of Escherichia coli BW4030 genome      562                          Escherichia coli       WGS         GENOMIC  RANDOM  SAMD00013297                                    Escherichia coli BW4030  Illumina Genome Analyzer IIx  DRR002013   2074950   414990000  SAMD00013297                        NANKAI                                        false  DRX001465                                                                       fasp.sra.ebi.ac.uk:/vol1/fastq/DRR002/DRR002013/DRR002013_1.fastq.gz;fasp.sra.ebi.ac.uk:/vol1/fastq/DRR002/DRR002013/DRR002013_2.fastq.gz             190132191;196195233                                                                   ftp.sra.ebi.ac.uk/vol1/fastq/DRR002/DRR002013/DRR002013_1.fastq.gz;ftp.sra.ebi.ac.uk/vol1/fastq/DRR002/DRR002013/DRR002013_2.fastq.gz                                                                   ftp.sra.ebi.ac.uk/vol1/fastq/DRR002/DRR002013/DRR002013_1.fastq.gz;ftp.sra.ebi.ac.uk/vol1/fastq/DRR002/DRR002013/DRR002013_2.fastq.gz                                   e1b533a3f1a1b43bf778aeda6b7b3c41;ce4024f8f06df4eedad364663b25572a  2012-06-09  2012-06-09  false                       ILLUMINA        2015-06-19    PAIRED                                        BW4030                  DRR002013    SAMD00013297                                                             Escherichia coli BW4030          DRS001423  DRP000589            fasp.sra.ebi.ac.uk:/vol1/drr/DRR002/DRR002013   298938811  ftp.sra.ebi.ac.uk/vol1/drr/DRR002/DRR002013  ftp.sra.ebi.ac.uk/vol1/drr/DRR002/DRR002013  47d956d8604338d481be964f421dfaef   BW4030  PRJDB2622  The multiplicity of divergence mechanisms in a single evolving population      DRA000563                              \n",
      "  PRJDB2622  DRX001466             Illumina Genome Analyzer IIx sequencing; Resequencing of Escherichia coli 2W22 genome             Illumina Genome Analyzer IIx sequencing; Resequencing of Escherichia coli 2W22 genome      562                          Escherichia coli       WGS         GENOMIC  RANDOM  SAMD00013271                                      Escherichia coli 2W22  Illumina Genome Analyzer IIx  DRR002014   2351839   470367800  SAMD00013271                        NANKAI                                        false  DRX001466                                                                       fasp.sra.ebi.ac.uk:/vol1/fastq/DRR002/DRR002014/DRR002014_1.fastq.gz;fasp.sra.ebi.ac.uk:/vol1/fastq/DRR002/DRR002014/DRR002014_2.fastq.gz             197660487;216119930                                                                   ftp.sra.ebi.ac.uk/vol1/fastq/DRR002/DRR002014/DRR002014_1.fastq.gz;ftp.sra.ebi.ac.uk/vol1/fastq/DRR002/DRR002014/DRR002014_2.fastq.gz                                                                   ftp.sra.ebi.ac.uk/vol1/fastq/DRR002/DRR002014/DRR002014_1.fastq.gz;ftp.sra.ebi.ac.uk/vol1/fastq/DRR002/DRR002014/DRR002014_2.fastq.gz                                   9463be7f7675e94aaaf22489cf030671;5e45ce2fcfa1dc161bc7858ba39bb4aa  2012-06-09  2012-06-09  false                       ILLUMINA        2015-06-19    PAIRED                                          2W22                  DRR002014    SAMD00013271                                                               Escherichia coli 2W22          DRS001424  DRP000589            fasp.sra.ebi.ac.uk:/vol1/drr/DRR002/DRR002014   318062016  ftp.sra.ebi.ac.uk/vol1/drr/DRR002/DRR002014  ftp.sra.ebi.ac.uk/vol1/drr/DRR002/DRR002014  d0668730217d75b87476ea51e16bec81     2W22  PRJDB2622  The multiplicity of divergence mechanisms in a single evolving population      DRA000563                              \n",
      "  PRJDB2622  DRX001467             Illumina Genome Analyzer IIx sequencing; Resequencing of Escherichia coli 2W14 genome             Illumina Genome Analyzer IIx sequencing; Resequencing of Escherichia coli 2W14 genome      562                          Escherichia coli       WGS         GENOMIC  RANDOM  SAMD00013261                                      Escherichia coli 2W14  Illumina Genome Analyzer IIx  DRR002015   2343637   468727400  SAMD00013261                        NANKAI                                        false  DRX001467                                                                       fasp.sra.ebi.ac.uk:/vol1/fastq/DRR002/DRR002015/DRR002015_1.fastq.gz;fasp.sra.ebi.ac.uk:/vol1/fastq/DRR002/DRR002015/DRR002015_2.fastq.gz             198238742;215036632                                                                   ftp.sra.ebi.ac.uk/vol1/fastq/DRR002/DRR002015/DRR002015_1.fastq.gz;ftp.sra.ebi.ac.uk/vol1/fastq/DRR002/DRR002015/DRR002015_2.fastq.gz                                                                   ftp.sra.ebi.ac.uk/vol1/fastq/DRR002/DRR002015/DRR002015_1.fastq.gz;ftp.sra.ebi.ac.uk/vol1/fastq/DRR002/DRR002015/DRR002015_2.fastq.gz                                   2445797fc4b4c96558b9271c7d606fd2;0ccad8d5b3127b890893ab704231d3da  2012-06-09  2012-06-09  false                       ILLUMINA        2015-06-19    PAIRED                                          2W14                  DRR002015    SAMD00013261                                                               Escherichia coli 2W14          DRS001425  DRP000589            fasp.sra.ebi.ac.uk:/vol1/drr/DRR002/DRR002015   317519354  ftp.sra.ebi.ac.uk/vol1/drr/DRR002/DRR002015  ftp.sra.ebi.ac.uk/vol1/drr/DRR002/DRR002015  49efc18100cd6217eef67a6d52c4f40b     2W14  PRJDB2622  The multiplicity of divergence mechanisms in a single evolving population      DRA000563                              \n",
      "  PRJDB2622  DRX001468             Illumina Genome Analyzer IIx sequencing; Resequencing of Escherichia coli 2W11 genome             Illumina Genome Analyzer IIx sequencing; Resequencing of Escherichia coli 2W11 genome      562                          Escherichia coli       WGS         GENOMIC  RANDOM  SAMD00013270                                      Escherichia coli 2W11  Illumina Genome Analyzer IIx  DRR002016   3313596   662719200  SAMD00013270                        NANKAI                                        false  DRX001468                                                                       fasp.sra.ebi.ac.uk:/vol1/fastq/DRR002/DRR002016/DRR002016_1.fastq.gz;fasp.sra.ebi.ac.uk:/vol1/fastq/DRR002/DRR002016/DRR002016_2.fastq.gz             279957829;305667110                                                                   ftp.sra.ebi.ac.uk/vol1/fastq/DRR002/DRR002016/DRR002016_1.fastq.gz;ftp.sra.ebi.ac.uk/vol1/fastq/DRR002/DRR002016/DRR002016_2.fastq.gz                                                                   ftp.sra.ebi.ac.uk/vol1/fastq/DRR002/DRR002016/DRR002016_1.fastq.gz;ftp.sra.ebi.ac.uk/vol1/fastq/DRR002/DRR002016/DRR002016_2.fastq.gz                                   8a5159aa5aae0a7484a92cb0cdb2082f;a4d36f1c1f7697806d461887de7d989b  2012-06-09  2012-06-09  false                       ILLUMINA        2015-06-19    PAIRED                                          2W11                  DRR002016    SAMD00013270                                                               Escherichia coli 2W11          DRS001426  DRP000589            fasp.sra.ebi.ac.uk:/vol1/drr/DRR002/DRR002016   450976488  ftp.sra.ebi.ac.uk/vol1/drr/DRR002/DRR002016  ftp.sra.ebi.ac.uk/vol1/drr/DRR002/DRR002016  fd2a74644725d9f8cd05c81e78731bdd     2W11  PRJDB2622  The multiplicity of divergence mechanisms in a single evolving population      DRA000563                              \n",
      "  PRJDB2622  DRX001469             Illumina Genome Analyzer IIx sequencing; Resequencing of Escherichia coli 2W30 genome             Illumina Genome Analyzer IIx sequencing; Resequencing of Escherichia coli 2W30 genome      562                          Escherichia coli       WGS         GENOMIC  RANDOM  SAMD00013267                                      Escherichia coli 2W30  Illumina Genome Analyzer IIx  DRR002017   2944179   588835800  SAMD00013267                        NANKAI                                        false  DRX001469                                                                       fasp.sra.ebi.ac.uk:/vol1/fastq/DRR002/DRR002017/DRR002017_1.fastq.gz;fasp.sra.ebi.ac.uk:/vol1/fastq/DRR002/DRR002017/DRR002017_2.fastq.gz             248896879;269962553                                                                   ftp.sra.ebi.ac.uk/vol1/fastq/DRR002/DRR002017/DRR002017_1.fastq.gz;ftp.sra.ebi.ac.uk/vol1/fastq/DRR002/DRR002017/DRR002017_2.fastq.gz                                                                   ftp.sra.ebi.ac.uk/vol1/fastq/DRR002/DRR002017/DRR002017_1.fastq.gz;ftp.sra.ebi.ac.uk/vol1/fastq/DRR002/DRR002017/DRR002017_2.fastq.gz                                   0944b93119ed689b492db40d420fb960;7beb7ecc64ee509a53341ad98a250cde  2012-06-09  2012-06-09  false                       ILLUMINA        2015-06-19    PAIRED                                          2W30                  DRR002017    SAMD00013267                                                               Escherichia coli 2W30          DRS001427  DRP000589            fasp.sra.ebi.ac.uk:/vol1/drr/DRR002/DRR002017   399114478  ftp.sra.ebi.ac.uk/vol1/drr/DRR002/DRR002017  ftp.sra.ebi.ac.uk/vol1/drr/DRR002/DRR002017  581bee1679c83cdc7a2b186d8252572f     2W30  PRJDB2622  The multiplicity of divergence mechanisms in a single evolving population      DRA000563                              \n",
      "  PRJDB2622  DRX001470              Illumina Genome Analyzer IIx sequencing; Resequencing of Escherichia coli 2W2 genome              Illumina Genome Analyzer IIx sequencing; Resequencing of Escherichia coli 2W2 genome      562                          Escherichia coli       WGS         GENOMIC  RANDOM  SAMD00013266                                       Escherichia coli 2W2  Illumina Genome Analyzer IIx  DRR002018   2752841   550568200  SAMD00013266                        NANKAI                                        false  DRX001470                                                                       fasp.sra.ebi.ac.uk:/vol1/fastq/DRR002/DRR002018/DRR002018_1.fastq.gz;fasp.sra.ebi.ac.uk:/vol1/fastq/DRR002/DRR002018/DRR002018_2.fastq.gz             244080081;247693443                                                                   ftp.sra.ebi.ac.uk/vol1/fastq/DRR002/DRR002018/DRR002018_1.fastq.gz;ftp.sra.ebi.ac.uk/vol1/fastq/DRR002/DRR002018/DRR002018_2.fastq.gz                                                                   ftp.sra.ebi.ac.uk/vol1/fastq/DRR002/DRR002018/DRR002018_1.fastq.gz;ftp.sra.ebi.ac.uk/vol1/fastq/DRR002/DRR002018/DRR002018_2.fastq.gz                                   d7fd235374609befd3e288136506dd9b;cd743e8cd54cbeaa06e68dbdc5446f35  2012-06-09  2012-06-09  false                       ILLUMINA        2015-06-19    PAIRED                                           2W2                  DRR002018    SAMD00013266                                                                Escherichia coli 2W2          DRS001428  DRP000589            fasp.sra.ebi.ac.uk:/vol1/drr/DRR002/DRR002018   379151105  ftp.sra.ebi.ac.uk/vol1/drr/DRR002/DRR002018  ftp.sra.ebi.ac.uk/vol1/drr/DRR002/DRR002018  b47b5fe4265a8e34a47e9822bc88447c      2W2  PRJDB2622  The multiplicity of divergence mechanisms in a single evolving population      DRA000563                              \n",
      "  PRJDB2622  DRX001471             Illumina Genome Analyzer IIx sequencing; Resequencing of Escherichia coli 2W29 genome             Illumina Genome Analyzer IIx sequencing; Resequencing of Escherichia coli 2W29 genome      562                          Escherichia coli       WGS         GENOMIC  RANDOM  SAMD00013275                                      Escherichia coli 2W29  Illumina Genome Analyzer IIx  DRR002019   1871877   374375400  SAMD00013275                        NANKAI                                        false  DRX001471                                                                       fasp.sra.ebi.ac.uk:/vol1/fastq/DRR002/DRR002019/DRR002019_1.fastq.gz;fasp.sra.ebi.ac.uk:/vol1/fastq/DRR002/DRR002019/DRR002019_2.fastq.gz             168942761;171661286                                                                   ftp.sra.ebi.ac.uk/vol1/fastq/DRR002/DRR002019/DRR002019_1.fastq.gz;ftp.sra.ebi.ac.uk/vol1/fastq/DRR002/DRR002019/DRR002019_2.fastq.gz                                                                   ftp.sra.ebi.ac.uk/vol1/fastq/DRR002/DRR002019/DRR002019_1.fastq.gz;ftp.sra.ebi.ac.uk/vol1/fastq/DRR002/DRR002019/DRR002019_2.fastq.gz                                   ac4937a01ef851de8308971bc1dd92e1;ccf02f8bba114f11c7abd6d9d55180a3  2012-06-09  2012-06-09  false                       ILLUMINA        2015-06-19    PAIRED                                          2W29                  DRR002019    SAMD00013275                                                               Escherichia coli 2W29          DRS001429  DRP000589            fasp.sra.ebi.ac.uk:/vol1/drr/DRR002/DRR002019   258807406  ftp.sra.ebi.ac.uk/vol1/drr/DRR002/DRR002019  ftp.sra.ebi.ac.uk/vol1/drr/DRR002/DRR002019  054b6c8e3b3b5b456729e9d197f74358     2W29  PRJDB2622  The multiplicity of divergence mechanisms in a single evolving population      DRA000563                              \n",
      "  PRJDB2622  DRX001472             Illumina Genome Analyzer IIx sequencing; Resequencing of Escherichia coli 3X16 genome             Illumina Genome Analyzer IIx sequencing; Resequencing of Escherichia coli 3X16 genome      562                          Escherichia coli       WGS         GENOMIC  RANDOM  SAMD00013277                                      Escherichia coli 3X16  Illumina Genome Analyzer IIx  DRR002020   2487847   497569400  SAMD00013277                        NANKAI                                        false  DRX001472                                                                       fasp.sra.ebi.ac.uk:/vol1/fastq/DRR002/DRR002020/DRR002020_1.fastq.gz;fasp.sra.ebi.ac.uk:/vol1/fastq/DRR002/DRR002020/DRR002020_2.fastq.gz             216990694;217735166                                                                   ftp.sra.ebi.ac.uk/vol1/fastq/DRR002/DRR002020/DRR002020_1.fastq.gz;ftp.sra.ebi.ac.uk/vol1/fastq/DRR002/DRR002020/DRR002020_2.fastq.gz                                                                   ftp.sra.ebi.ac.uk/vol1/fastq/DRR002/DRR002020/DRR002020_1.fastq.gz;ftp.sra.ebi.ac.uk/vol1/fastq/DRR002/DRR002020/DRR002020_2.fastq.gz                                   bcbe848b435d7e2924920ae0cae74d78;aab1d8e7706efe9916e43380b8816a6e  2012-06-09  2012-06-09  false                       ILLUMINA        2015-06-19    PAIRED                                          3X16                  DRR002020    SAMD00013277                                                               Escherichia coli 3X16          DRS001430  DRP000589            fasp.sra.ebi.ac.uk:/vol1/drr/DRR002/DRR002020   333172158  ftp.sra.ebi.ac.uk/vol1/drr/DRR002/DRR002020  ftp.sra.ebi.ac.uk/vol1/drr/DRR002/DRR002020  fd1ea66402481805dcf59a2e0d450a44     3X16  PRJDB2622  The multiplicity of divergence mechanisms in a single evolving population      DRA000563                              \n",
      "  PRJDB2622  DRX001473             Illumina Genome Analyzer IIx sequencing; Resequencing of Escherichia coli 3X17 genome             Illumina Genome Analyzer IIx sequencing; Resequencing of Escherichia coli 3X17 genome      562                          Escherichia coli       WGS         GENOMIC  RANDOM  SAMD00013295                                      Escherichia coli 3X17  Illumina Genome Analyzer IIx  DRR002021   3408037   681607400  SAMD00013295                        NANKAI                                        false  DRX001473                                                                       fasp.sra.ebi.ac.uk:/vol1/fastq/DRR002/DRR002021/DRR002021_1.fastq.gz;fasp.sra.ebi.ac.uk:/vol1/fastq/DRR002/DRR002021/DRR002021_2.fastq.gz             295647653;295525951                                                                   ftp.sra.ebi.ac.uk/vol1/fastq/DRR002/DRR002021/DRR002021_1.fastq.gz;ftp.sra.ebi.ac.uk/vol1/fastq/DRR002/DRR002021/DRR002021_2.fastq.gz                                                                   ftp.sra.ebi.ac.uk/vol1/fastq/DRR002/DRR002021/DRR002021_1.fastq.gz;ftp.sra.ebi.ac.uk/vol1/fastq/DRR002/DRR002021/DRR002021_2.fastq.gz                                   d972891da1011f79b0601bdcbd4c8ff8;9f476628bedba35fdcb486549db8f930  2012-06-09  2012-06-09  false                       ILLUMINA        2015-06-19    PAIRED                                          3X17                  DRR002021    SAMD00013295                                                               Escherichia coli 3X17          DRS001431  DRP000589            fasp.sra.ebi.ac.uk:/vol1/drr/DRR002/DRR002021   452333530  ftp.sra.ebi.ac.uk/vol1/drr/DRR002/DRR002021  ftp.sra.ebi.ac.uk/vol1/drr/DRR002/DRR002021  fd5a523282d622a997986c9e0252d69e     3X17  PRJDB2622  The multiplicity of divergence mechanisms in a single evolving population      DRA000563                              \n",
      "  PRJDB2622  DRX001474             Illumina Genome Analyzer IIx sequencing; Resequencing of Escherichia coli 3X27 genome             Illumina Genome Analyzer IIx sequencing; Resequencing of Escherichia coli 3X27 genome      562                          Escherichia coli       WGS         GENOMIC  RANDOM  SAMD00013264                                      Escherichia coli 3X27  Illumina Genome Analyzer IIx  DRR002022   2718663   543732600  SAMD00013264                        NANKAI                                        false  DRX001474                                                                       fasp.sra.ebi.ac.uk:/vol1/fastq/DRR002/DRR002022/DRR002022_1.fastq.gz;fasp.sra.ebi.ac.uk:/vol1/fastq/DRR002/DRR002022/DRR002022_2.fastq.gz             241151938;245033748                                                                   ftp.sra.ebi.ac.uk/vol1/fastq/DRR002/DRR002022/DRR002022_1.fastq.gz;ftp.sra.ebi.ac.uk/vol1/fastq/DRR002/DRR002022/DRR002022_2.fastq.gz                                                                   ftp.sra.ebi.ac.uk/vol1/fastq/DRR002/DRR002022/DRR002022_1.fastq.gz;ftp.sra.ebi.ac.uk/vol1/fastq/DRR002/DRR002022/DRR002022_2.fastq.gz                                   8f57a3ad51ccc5ea427594d33916bac3;404b75f3a4e7e054f943f144c67b5979  2012-06-09  2012-06-09  false                       ILLUMINA        2015-06-19    PAIRED                                          3X27                  DRR002022    SAMD00013264                                                               Escherichia coli 3X27          DRS001432  DRP000589            fasp.sra.ebi.ac.uk:/vol1/drr/DRR002/DRR002022   374991923  ftp.sra.ebi.ac.uk/vol1/drr/DRR002/DRR002022  ftp.sra.ebi.ac.uk/vol1/drr/DRR002/DRR002022  9f51af5804f2dcb0175e3cac4d9fdc91     3X27  PRJDB2622  The multiplicity of divergence mechanisms in a single evolving population      DRA000563                              \n",
      "  PRJDB2622  DRX001475             Illumina Genome Analyzer IIx sequencing; Resequencing of Escherichia coli 3X37 genome             Illumina Genome Analyzer IIx sequencing; Resequencing of Escherichia coli 3X37 genome      562                          Escherichia coli       WGS         GENOMIC  RANDOM  SAMD00013256                                      Escherichia coli 3X37  Illumina Genome Analyzer IIx  DRR002023   2286525   457305000  SAMD00013256                        NANKAI                                        false  DRX001475                                                                       fasp.sra.ebi.ac.uk:/vol1/fastq/DRR002/DRR002023/DRR002023_1.fastq.gz;fasp.sra.ebi.ac.uk:/vol1/fastq/DRR002/DRR002023/DRR002023_2.fastq.gz             203957245;207534866                                                                   ftp.sra.ebi.ac.uk/vol1/fastq/DRR002/DRR002023/DRR002023_1.fastq.gz;ftp.sra.ebi.ac.uk/vol1/fastq/DRR002/DRR002023/DRR002023_2.fastq.gz                                                                   ftp.sra.ebi.ac.uk/vol1/fastq/DRR002/DRR002023/DRR002023_1.fastq.gz;ftp.sra.ebi.ac.uk/vol1/fastq/DRR002/DRR002023/DRR002023_2.fastq.gz                                   bbc6f89c285b25df531d02b477b27846;cfb0233ea0873a5c5caa1c1fe9f8beea  2012-06-09  2012-06-09  false                       ILLUMINA        2015-06-19    PAIRED                                          3X37                  DRR002023    SAMD00013256                                                               Escherichia coli 3X37          DRS001433  DRP000589            fasp.sra.ebi.ac.uk:/vol1/drr/DRR002/DRR002023   318025444  ftp.sra.ebi.ac.uk/vol1/drr/DRR002/DRR002023  ftp.sra.ebi.ac.uk/vol1/drr/DRR002/DRR002023  fa80e0f1a45a9c3ab2dcbcaf413c6498     3X37  PRJDB2622  The multiplicity of divergence mechanisms in a single evolving population      DRA000563                              \n",
      "  PRJDB2622  DRX001476             Illumina Genome Analyzer IIx sequencing; Resequencing of Escherichia coli 3X30 genome             Illumina Genome Analyzer IIx sequencing; Resequencing of Escherichia coli 3X30 genome      562                          Escherichia coli       WGS         GENOMIC  RANDOM  SAMD00013296                                      Escherichia coli 3X30  Illumina Genome Analyzer IIx  DRR002024   2520212   504042400  SAMD00013296                        NANKAI                                        false  DRX001476                                                                       fasp.sra.ebi.ac.uk:/vol1/fastq/DRR002/DRR002024/DRR002024_1.fastq.gz;fasp.sra.ebi.ac.uk:/vol1/fastq/DRR002/DRR002024/DRR002024_2.fastq.gz             219638218;220086543                                                                   ftp.sra.ebi.ac.uk/vol1/fastq/DRR002/DRR002024/DRR002024_1.fastq.gz;ftp.sra.ebi.ac.uk/vol1/fastq/DRR002/DRR002024/DRR002024_2.fastq.gz                                                                   ftp.sra.ebi.ac.uk/vol1/fastq/DRR002/DRR002024/DRR002024_1.fastq.gz;ftp.sra.ebi.ac.uk/vol1/fastq/DRR002/DRR002024/DRR002024_2.fastq.gz                                   65cb3624e3332a358485e3ccc538d19d;b014941239a493e7daea73adb288f34b  2012-06-09  2012-06-09  false                       ILLUMINA        2015-06-19    PAIRED                                          3X30                  DRR002024    SAMD00013296                                                               Escherichia coli 3X30          DRS001434  DRP000589            fasp.sra.ebi.ac.uk:/vol1/drr/DRR002/DRR002024   336724442  ftp.sra.ebi.ac.uk/vol1/drr/DRR002/DRR002024  ftp.sra.ebi.ac.uk/vol1/drr/DRR002/DRR002024  6663d0dfddaf8e72ff5bfdcac03ea755     3X30  PRJDB2622  The multiplicity of divergence mechanisms in a single evolving population      DRA000563                              \n",
      "  PRJDB2622  DRX001477             Illumina Genome Analyzer IIx sequencing; Resequencing of Escherichia coli 3X31 genome             Illumina Genome Analyzer IIx sequencing; Resequencing of Escherichia coli 3X31 genome      562                          Escherichia coli       WGS         GENOMIC  RANDOM  SAMD00013262                                      Escherichia coli 3X31  Illumina Genome Analyzer IIx  DRR002025   4686868   937373600  SAMD00013262                        NANKAI                                        false  DRX001477                                                                       fasp.sra.ebi.ac.uk:/vol1/fastq/DRR002/DRR002025/DRR002025_1.fastq.gz;fasp.sra.ebi.ac.uk:/vol1/fastq/DRR002/DRR002025/DRR002025_2.fastq.gz             394162323;428952905                                                                   ftp.sra.ebi.ac.uk/vol1/fastq/DRR002/DRR002025/DRR002025_1.fastq.gz;ftp.sra.ebi.ac.uk/vol1/fastq/DRR002/DRR002025/DRR002025_2.fastq.gz                                                                   ftp.sra.ebi.ac.uk/vol1/fastq/DRR002/DRR002025/DRR002025_1.fastq.gz;ftp.sra.ebi.ac.uk/vol1/fastq/DRR002/DRR002025/DRR002025_2.fastq.gz                                   f45269cf89841268b4e24ee5cd7d87da;7f4517c23fc5d635d9f817faed4d8c8e  2012-06-09  2012-06-09  false                       ILLUMINA        2015-06-19    PAIRED                                          3X31                  DRR002025    SAMD00013262                                                               Escherichia coli 3X31          DRS001435  DRP000589            fasp.sra.ebi.ac.uk:/vol1/drr/DRR002/DRR002025   632578179  ftp.sra.ebi.ac.uk/vol1/drr/DRR002/DRR002025  ftp.sra.ebi.ac.uk/vol1/drr/DRR002/DRR002025  47dab9a223d659261091cf63a662e18b     3X31  PRJDB2622  The multiplicity of divergence mechanisms in a single evolving population      DRA000563                              \n",
      "  PRJDB2622  DRX001478             Illumina Genome Analyzer IIx sequencing; Resequencing of Escherichia coli 3X10 genome             Illumina Genome Analyzer IIx sequencing; Resequencing of Escherichia coli 3X10 genome      562                          Escherichia coli       WGS         GENOMIC  RANDOM  SAMD00013269                                      Escherichia coli 3X10  Illumina Genome Analyzer IIx  DRR002026   3142238   628447600  SAMD00013269                        NANKAI                                        false  DRX001478                                                                       fasp.sra.ebi.ac.uk:/vol1/fastq/DRR002/DRR002026/DRR002026_1.fastq.gz;fasp.sra.ebi.ac.uk:/vol1/fastq/DRR002/DRR002026/DRR002026_2.fastq.gz             265437793;288622939                                                                   ftp.sra.ebi.ac.uk/vol1/fastq/DRR002/DRR002026/DRR002026_1.fastq.gz;ftp.sra.ebi.ac.uk/vol1/fastq/DRR002/DRR002026/DRR002026_2.fastq.gz                                                                   ftp.sra.ebi.ac.uk/vol1/fastq/DRR002/DRR002026/DRR002026_1.fastq.gz;ftp.sra.ebi.ac.uk/vol1/fastq/DRR002/DRR002026/DRR002026_2.fastq.gz                                   9389144d66ab9bf15e3eff7b85be4f28;09eabb71aff099b50e99b539b2039911  2012-06-09  2012-06-09  false                       ILLUMINA        2015-06-19    PAIRED                                          3X10                  DRR002026    SAMD00013269                                                               Escherichia coli 3X10          DRS001436  DRP000589            fasp.sra.ebi.ac.uk:/vol1/drr/DRR002/DRR002026   426351699  ftp.sra.ebi.ac.uk/vol1/drr/DRR002/DRR002026  ftp.sra.ebi.ac.uk/vol1/drr/DRR002/DRR002026  305733010aa1b1bc5b196f5cf2f2f52d     3X10  PRJDB2622  The multiplicity of divergence mechanisms in a single evolving population      DRA000563                              \n",
      "  PRJDB2622  DRX001479             Illumina Genome Analyzer IIx sequencing; Resequencing of Escherichia coli 4R16 genome             Illumina Genome Analyzer IIx sequencing; Resequencing of Escherichia coli 4R16 genome      562                          Escherichia coli       WGS         GENOMIC  RANDOM  SAMD00013273                                      Escherichia coli 4R16  Illumina Genome Analyzer IIx  DRR002027   2972132   594426400  SAMD00013273                        NANKAI                                        false  DRX001479                                                                       fasp.sra.ebi.ac.uk:/vol1/fastq/DRR002/DRR002027/DRR002027_1.fastq.gz;fasp.sra.ebi.ac.uk:/vol1/fastq/DRR002/DRR002027/DRR002027_2.fastq.gz             249758681;271837459                                                                   ftp.sra.ebi.ac.uk/vol1/fastq/DRR002/DRR002027/DRR002027_1.fastq.gz;ftp.sra.ebi.ac.uk/vol1/fastq/DRR002/DRR002027/DRR002027_2.fastq.gz                                                                   ftp.sra.ebi.ac.uk/vol1/fastq/DRR002/DRR002027/DRR002027_1.fastq.gz;ftp.sra.ebi.ac.uk/vol1/fastq/DRR002/DRR002027/DRR002027_2.fastq.gz                                   fa5c26b0fb5fee1d0e4001223715c4e2;c4b5a623170b6eed319444b6c9096b4c  2012-06-09  2012-06-09  false                       ILLUMINA        2015-06-19    PAIRED                                          4R16                  DRR002027    SAMD00013273                                                               Escherichia coli 4R16          DRS001437  DRP000589            fasp.sra.ebi.ac.uk:/vol1/drr/DRR002/DRR002027   400816681  ftp.sra.ebi.ac.uk/vol1/drr/DRR002/DRR002027  ftp.sra.ebi.ac.uk/vol1/drr/DRR002/DRR002027  02e7f46096adfa7ed6c10eac48011ec9     4R16  PRJDB2622  The multiplicity of divergence mechanisms in a single evolving population      DRA000563                              \n",
      "  PRJDB2622  DRX001480              Illumina Genome Analyzer IIx sequencing; Resequencing of Escherichia coli 4R1 genome              Illumina Genome Analyzer IIx sequencing; Resequencing of Escherichia coli 4R1 genome      562                          Escherichia coli       WGS         GENOMIC  RANDOM  SAMD00013286                                       Escherichia coli 4R1  Illumina Genome Analyzer IIx  DRR002028   2274747   454949400  SAMD00013286                        NANKAI                                        false  DRX001480                                                                       fasp.sra.ebi.ac.uk:/vol1/fastq/DRR002/DRR002028/DRR002028_1.fastq.gz;fasp.sra.ebi.ac.uk:/vol1/fastq/DRR002/DRR002028/DRR002028_2.fastq.gz             192689541;209294271                                                                   ftp.sra.ebi.ac.uk/vol1/fastq/DRR002/DRR002028/DRR002028_1.fastq.gz;ftp.sra.ebi.ac.uk/vol1/fastq/DRR002/DRR002028/DRR002028_2.fastq.gz                                                                   ftp.sra.ebi.ac.uk/vol1/fastq/DRR002/DRR002028/DRR002028_1.fastq.gz;ftp.sra.ebi.ac.uk/vol1/fastq/DRR002/DRR002028/DRR002028_2.fastq.gz                                   ff24a899ecd80ed61ea1160ec37f6c03;33d95016db1b68b5d588b76a580852d8  2012-06-09  2012-06-09  false                       ILLUMINA        2015-06-19    PAIRED                                           4R1                  DRR002028    SAMD00013286                                                                Escherichia coli 4R1          DRS001438  DRP000589            fasp.sra.ebi.ac.uk:/vol1/drr/DRR002/DRR002028   309063008  ftp.sra.ebi.ac.uk/vol1/drr/DRR002/DRR002028  ftp.sra.ebi.ac.uk/vol1/drr/DRR002/DRR002028  ce652bdc20881787c775a4a26cd5ca09      4R1  PRJDB2622  The multiplicity of divergence mechanisms in a single evolving population      DRA000563                              \n",
      "  PRJDB2622  DRX001481             Illumina Genome Analyzer IIx sequencing; Resequencing of Escherichia coli 4R10 genome             Illumina Genome Analyzer IIx sequencing; Resequencing of Escherichia coli 4R10 genome      562                          Escherichia coli       WGS         GENOMIC  RANDOM  SAMD00013282                                      Escherichia coli 4R10  Illumina Genome Analyzer IIx  DRR002029   3064108   612821600  SAMD00013282                        NANKAI                                        false  DRX001481                                                                       fasp.sra.ebi.ac.uk:/vol1/fastq/DRR002/DRR002029/DRR002029_1.fastq.gz;fasp.sra.ebi.ac.uk:/vol1/fastq/DRR002/DRR002029/DRR002029_2.fastq.gz             257236979;280657295                                                                   ftp.sra.ebi.ac.uk/vol1/fastq/DRR002/DRR002029/DRR002029_1.fastq.gz;ftp.sra.ebi.ac.uk/vol1/fastq/DRR002/DRR002029/DRR002029_2.fastq.gz                                                                   ftp.sra.ebi.ac.uk/vol1/fastq/DRR002/DRR002029/DRR002029_1.fastq.gz;ftp.sra.ebi.ac.uk/vol1/fastq/DRR002/DRR002029/DRR002029_2.fastq.gz                                   f7f4160f8ad9f5cc8621a8bf97cf5bc0;1984759aa1f0abc1adfba26f366e38bb  2012-06-09  2012-06-09  false                       ILLUMINA        2015-06-19    PAIRED                                          4R10                  DRR002029    SAMD00013282                                                               Escherichia coli 4R10          DRS001439  DRP000589            fasp.sra.ebi.ac.uk:/vol1/drr/DRR002/DRR002029   413296150  ftp.sra.ebi.ac.uk/vol1/drr/DRR002/DRR002029  ftp.sra.ebi.ac.uk/vol1/drr/DRR002/DRR002029  f0f0d21e86429f4bc9ee6d9be1175e40     4R10  PRJDB2622  The multiplicity of divergence mechanisms in a single evolving population      DRA000563                              \n",
      "  PRJDB2622  DRX001482             Illumina Genome Analyzer IIx sequencing; Resequencing of Escherichia coli 4R18 genome             Illumina Genome Analyzer IIx sequencing; Resequencing of Escherichia coli 4R18 genome      562                          Escherichia coli       WGS         GENOMIC  RANDOM  SAMD00013294                                      Escherichia coli 4R18  Illumina Genome Analyzer IIx  DRR002030   3851678   770335600  SAMD00013294                        NANKAI                                        false  DRX001482                                                                       fasp.sra.ebi.ac.uk:/vol1/fastq/DRR002/DRR002030/DRR002030_1.fastq.gz;fasp.sra.ebi.ac.uk:/vol1/fastq/DRR002/DRR002030/DRR002030_2.fastq.gz             327463111;356387222                                                                   ftp.sra.ebi.ac.uk/vol1/fastq/DRR002/DRR002030/DRR002030_1.fastq.gz;ftp.sra.ebi.ac.uk/vol1/fastq/DRR002/DRR002030/DRR002030_2.fastq.gz                                                                   ftp.sra.ebi.ac.uk/vol1/fastq/DRR002/DRR002030/DRR002030_1.fastq.gz;ftp.sra.ebi.ac.uk/vol1/fastq/DRR002/DRR002030/DRR002030_2.fastq.gz                                   1e0385823a0418c16658cf1a4a63b236;59179bb37ecb514c7502df9b2ac4c6fe  2012-06-09  2012-06-09  false                       ILLUMINA        2015-06-19    PAIRED                                          4R18                  DRR002030    SAMD00013294                                                               Escherichia coli 4R18          DRS001440  DRP000589            fasp.sra.ebi.ac.uk:/vol1/drr/DRR002/DRR002030   523263691  ftp.sra.ebi.ac.uk/vol1/drr/DRR002/DRR002030  ftp.sra.ebi.ac.uk/vol1/drr/DRR002/DRR002030  877c01691dd402f1d2b513f189143dcb     4R18  PRJDB2622  The multiplicity of divergence mechanisms in a single evolving population      DRA000563                              \n"
     ]
    }
   ],
   "source": [
    "!pysradb search --db ena -m 20 -v 3 -q Escherichia coli --accession SRS6898940 --organism Escherichia coli --layout Paired --mbases 100 --publication-date 01-01-2019:31-12-2019 --platform illumina --selection random --source Genomic --strategy wgs\n"
   ]
  },
  {
   "cell_type": "code",
   "execution_count": null,
   "metadata": {},
   "outputs": [],
   "source": []
  }
 ],
 "metadata": {
  "kernelspec": {
   "display_name": "Python 3",
   "language": "python",
   "name": "python3"
  },
  "language_info": {
   "codemirror_mode": {
    "name": "ipython",
    "version": 3
   },
   "file_extension": ".py",
   "mimetype": "text/x-python",
   "name": "python",
   "nbconvert_exporter": "python",
   "pygments_lexer": "ipython3",
   "version": "3.7.0"
  }
 },
 "nbformat": 4,
 "nbformat_minor": 4
}
